{
  "nbformat": 4,
  "nbformat_minor": 0,
  "metadata": {
    "colab": {
      "provenance": [],
      "authorship_tag": "ABX9TyPWA9xjTI/4wjquiT9B7drY",
      "include_colab_link": true
    },
    "kernelspec": {
      "name": "python3",
      "display_name": "Python 3"
    },
    "language_info": {
      "name": "python"
    }
  },
  "cells": [
    {
      "cell_type": "markdown",
      "metadata": {
        "id": "view-in-github",
        "colab_type": "text"
      },
      "source": [
        "<a href=\"https://colab.research.google.com/github/Ranjan00001/calculus-2/blob/main/Integration.ipynb\" target=\"_parent\"><img src=\"https://colab.research.google.com/assets/colab-badge.svg\" alt=\"Open In Colab\"/></a>"
      ]
    },
    {
      "cell_type": "code",
      "execution_count": 8,
      "metadata": {
        "id": "bqVn21wVHOnq"
      },
      "outputs": [],
      "source": [
        "from scipy.integrate import quad"
      ]
    },
    {
      "cell_type": "code",
      "source": [
        "# define the function to integrate\n",
        "def f(x):\n",
        "  return x**2 + 2*x + 1"
      ],
      "metadata": {
        "id": "K4cJX-0XHXIv"
      },
      "execution_count": 34,
      "outputs": []
    },
    {
      "cell_type": "code",
      "source": [
        "# Integrate the function from 0 to 2 using scipy module \n",
        "result, error = quad(f, 0, 2)\n",
        "\n",
        "print('The result of the integration is: ', result)\n",
        "print('The error estimate is: ', error)"
      ],
      "metadata": {
        "colab": {
          "base_uri": "https://localhost:8080/"
        },
        "id": "r5kTtKjgHlbI",
        "outputId": "ca3a5aa7-251d-45d2-b7b4-f3162b0640c7"
      },
      "execution_count": 35,
      "outputs": [
        {
          "output_type": "stream",
          "name": "stdout",
          "text": [
            "The result of the integration is:  8.666666666666668\n",
            "The error estimate is:  9.621932880084691e-14\n"
          ]
        }
      ]
    },
    {
      "cell_type": "markdown",
      "source": [
        "now we have to find reimann integral\n",
        "$$ $$"
      ],
      "metadata": {
        "id": "4mdM1_89JFQd"
      }
    },
    {
      "cell_type": "code",
      "source": [
        "delta_x = 0.1\n",
        "# partition_list = [delta_x**i for i in range(1, 11)]\n",
        "# tag_list = [i+0.01 for i in partition_list]\n",
        "R_s = 0\n",
        "\n",
        "# for i in tag_list:\n",
        "for i in range(1, 21):\n",
        "  partition = i*delta_x\n",
        "  tag = partition + 0.01\n",
        "  R_s += f(tag) * delta_x\n",
        "\n",
        "print(R_s)"
      ],
      "metadata": {
        "colab": {
          "base_uri": "https://localhost:8080/"
        },
        "id": "Ok1Jy7jPJLsa",
        "outputId": "2c81b2ea-d6fd-48d9-8092-57a8c8757d4d"
      },
      "execution_count": 36,
      "outputs": [
        {
          "output_type": "stream",
          "name": "stdout",
          "text": [
            "9.1522\n"
          ]
        }
      ]
    },
    {
      "cell_type": "markdown",
      "source": [
        "integral using trapezoidal rule\n",
        "$$\\intop_{x_{1}}^{x_{2}}f(x)dx=\th[\\frac{f(x_{1})}{2}+\\frac{f(x_{2})}{2}]+(h^{3}...)\n",
        "\t$$"
      ],
      "metadata": {
        "id": "3kMAbPbYV58f"
      }
    },
    {
      "cell_type": "code",
      "source": [
        "x1 = 0\n",
        "x2 = 2\n",
        "h  = x2-x1\n",
        "integral = h*(f(x1)/2+f(x2)/2)\n",
        "print(integral)"
      ],
      "metadata": {
        "colab": {
          "base_uri": "https://localhost:8080/"
        },
        "id": "Ghk7pExoV4Vx",
        "outputId": "55ff57b0-4fed-4a1a-d6ab-6fd7e83e3759"
      },
      "execution_count": 39,
      "outputs": [
        {
          "output_type": "stream",
          "name": "stdout",
          "text": [
            "10.0\n"
          ]
        }
      ]
    },
    {
      "cell_type": "markdown",
      "source": [
        "integral using Simpson Rule\n",
        "$$\\intop_{x_{1}}^{x_{2}}f(x)dx=\t\\frac{x_{2}-x_{1}}{6}[f(x_{1})+4f(\\frac{x_{2}+x_{1}}{2})+f(x_{2})]\n",
        "\t$$"
      ],
      "metadata": {
        "id": "72_yFbZIYzTi"
      }
    },
    {
      "cell_type": "code",
      "source": [
        "x1 = 0\n",
        "x2 = 2\n",
        "h  = x2-x1\n",
        "integral = (h/6)*(f(x1)+4*f((x2+x1)/2)+f(x2))\n",
        "print(integral)"
      ],
      "metadata": {
        "colab": {
          "base_uri": "https://localhost:8080/"
        },
        "id": "2hSsVxQuY9as",
        "outputId": "7680f978-6deb-4351-bcaf-c2c9f66e67a5"
      },
      "execution_count": 40,
      "outputs": [
        {
          "output_type": "stream",
          "name": "stdout",
          "text": [
            "8.666666666666666\n"
          ]
        }
      ]
    }
  ]
}