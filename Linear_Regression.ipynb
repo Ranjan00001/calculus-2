{
  "cells": [
    {
      "cell_type": "markdown",
      "metadata": {
        "id": "view-in-github",
        "colab_type": "text"
      },
      "source": [
        "<a href=\"https://colab.research.google.com/github/Ranjan00001/calculus-2/blob/main/Linear_Regression.ipynb\" target=\"_parent\"><img src=\"https://colab.research.google.com/assets/colab-badge.svg\" alt=\"Open In Colab\"/></a>"
      ]
    },
    {
      "cell_type": "code",
      "execution_count": null,
      "metadata": {
        "id": "gY9QzDNEeQB8"
      },
      "outputs": [],
      "source": [
        "import random\n",
        "import math\n",
        "import matplotlib.pyplot as plt\n",
        "import numpy as np\n"
      ]
    },
    {
      "cell_type": "code",
      "source": [
        "m = 1\n",
        "c = 1\n",
        "alpha = 10\n",
        "n = 100"
      ],
      "metadata": {
        "id": "L0I5SJeM2bkR"
      },
      "execution_count": null,
      "outputs": []
    },
    {
      "cell_type": "markdown",
      "metadata": {
        "id": "_DzDbn7MvGqw"
      },
      "source": [
        "Here we are graphing Linear regression graph for Linear equation,\n",
        "$$ y_i = mx_i + c + ϵ_i $$\n",
        "To estimate the value of slope and intercept we will find value of $m$ and $c$ so that the following sum of error(SE) is minimized. Expression for SE is as follows:$$SE = \\sum_{i=1}^{n}(y_{i} - m \\cdot x_{i} - c)^2$$ where $m$ is slope and $c$ is intercept.To estimate values of $m$ and $c$ use following equations:\n",
        "$$\\frac{∂SE}{∂m} = 0  \\quad  and \\quad \\frac{∂SE}{∂c} = 0$$\n",
        "Hence calculated values of $m$ and $c$ are:\n",
        "$$m =\\frac{\\overline{xy} - \\overline{x}⋅\\overline{y}}{\\overline{x^2} - (\\overline{x})^2} \\quad \\quad and \\quad \\quad c = \\overline{y} - m \\cdot \\overline{x}$$ Where  $$\\overline{x} = \\frac{1}{n}\\sum_{i=1}^{n}x_{i}  \\quad \\quad and \\quad \\quad \\overline{y} = \\frac{1}{n}\\sum_{i=1}^{n}y_{i} $$"
      ]
    },
    {
      "cell_type": "code",
      "execution_count": null,
      "metadata": {
        "id": "MZwePXAWeb2w"
      },
      "outputs": [],
      "source": [
        "def Error_ylist(m,c,n):\n",
        "  ylist = []\n",
        "  for i in range(1,101):\n",
        "    E_i = (random.random() - 0.5) * alpha\n",
        "    y_i = m*i + c + E_i\n",
        "    ylist.append(y_i)\n",
        "  return ylist\n",
        "\n",
        "def list_mul(xlist,ylist):\n",
        "  xylist = []\n",
        "  for i in range(len(xlist)):\n",
        "    xylist.append(ylist[i]*xlist[i])\n",
        "  return xylist\n",
        "\n",
        "def average(lst):\n",
        "  return math.fsum(lst)/len(lst)\n",
        "\n",
        "# x_bar = math.fsum(xlist)/len(xlist)\n",
        "# y_bar = math.fsum(ylist)/len(ylist)\n",
        "# xy_bar = math.fsum(xylist)/len(xylist)\n",
        "# xsquare_bar = math.fsum(xsquarelist)/len(xsquarelist)\n",
        "\n",
        "xlist = [i for i in range(1, n+1)]\n",
        "ylist = Error_ylist(m, c, n)\n",
        "xylist = list_mul(xlist, ylist)\n",
        "xsquarelist = list_mul(xlist, xlist)\n",
        "\n",
        "c = average(ylist) - m * average(xlist)\n",
        "m = (average(xylist) - average(xlist) * average(ylist))/(average(xsquarelist) - average(xlist)**2)\n",
        "\n",
        "# print(m)\n",
        "# print(c)\n",
        "\n",
        "def Correct_ylist(m, c, n):\n",
        "  new_ylist = []\n",
        "  for i in range(1,n+1):\n",
        "    y_i = m*i+c\n",
        "    new_ylist.append(y_i)\n",
        "  return new_ylist"
      ]
    },
    {
      "cell_type": "code",
      "execution_count": null,
      "metadata": {
        "colab": {
          "base_uri": "https://localhost:8080/",
          "height": 302
        },
        "id": "w4zlSWrzkolN",
        "outputId": "b41d4f42-8fcd-4765-d1d0-021d596f91e9"
      },
      "outputs": [
        {
          "output_type": "stream",
          "name": "stdout",
          "text": [
            "[3.78369131709787, 4.072855315424041, 8.830091548410554, 1.1358141227088323, 11.149850707561653, 5.223055026002838, 11.587795037521138, 13.370537060119561, 9.310493440057826, 10.89023103963129, 9.833231956548364, 11.532906240975208, 14.422851002287127, 11.626608976918972, 16.08699296941293, 19.979629335725967, 19.696414372768146, 22.382547899012472, 22.597112487968246, 19.719135789599388, 25.431447677990466, 20.65994039892891, 23.91527302628807, 20.642764100204953, 25.539436891310658, 27.191229201012273, 26.784342720909763, 32.132814425772494, 26.07806170391982, 26.720061480229838, 29.812390949812883, 34.65049899056178, 33.42352584107108, 36.61632380314692, 34.999570164457914, 37.02374196918102, 42.608461888360615, 37.662657174949985, 41.556792823259705, 40.302664639747235, 42.78416711075712, 44.08827247040206, 43.82239250992281, 47.39569548653002, 46.128573811559534, 45.53907704792476, 45.32621736051335, 46.57968453769489, 45.837369501878186, 48.53967862018108, 48.405138090554715, 54.70619173993474, 57.16511762683958, 60.375409975926274, 55.54410139151765, 54.45878708373272, 58.607340210407415, 56.22335216514594, 65.08548134808166, 60.40169401519308, 58.49272428140043, 61.37136314749676, 67.76860964273708, 66.63877715548765, 62.86494338717874, 69.48834417339094, 70.32720646959761, 67.0998247564518, 71.00323776756998, 75.3891256874808, 74.28791358513605, 71.09374373659398, 71.82894061077553, 71.962638333843, 72.8645017329482, 77.17049882595815, 76.49954984051844, 81.38429283315183, 80.45178469263325, 80.05233571158458, 83.55241087243296, 86.4134764418071, 84.88904042298073, 83.84768098516977, 85.29412017006725, 83.42823040198428, 88.5493167932859, 94.43192843261636, 89.3336752240679, 92.46568804220345, 97.86654551198652, 97.84951425765131, 99.17174097609974, 93.03409272100576, 98.09225072160875, 94.13431553526152, 98.29926414874313, 102.71506854248135, 104.90960395381259, 102.63191070637953]\n"
          ]
        },
        {
          "output_type": "display_data",
          "data": {
            "text/plain": [
              "<Figure size 432x288 with 1 Axes>"
            ],
            "image/png": "[encoded data removed]"
          },
          "metadata": {
            "needs_background": "light"
          }
        }
      ],
      "source": [
        "plt.plot(xlist, Error_ylist(m, c, n))\n",
        "plt.plot(xlist, Correct_ylist(m, c, n))\n",
        "print(Error_ylist(m, c, n))"
      ]
    },
    {
      "cell_type": "markdown",
      "metadata": {
        "id": "Du0_G51Tuol1"
      },
      "source": [
        "# Linear regression for Exponential equation\n",
        "$$ y_i = β e^{mx_i +ϵ_i}$$\n",
        "now take log on both side such that it will become linear equation and then we can do it using previous one\n",
        "$$ log(y_i) = log(β) + mx_i +ϵ_i $$\n",
        "consider  $$ y_i^{new}= log(y_i), c = log(β) m = γ$$\n",
        "\n",
        "now apply linear regression method to find $β$ and $γ$."
      ]
    },
    {
      "cell_type": "code",
      "execution_count": null,
      "metadata": {
        "id": "Yve4WHQhDI1y"
      },
      "outputs": [],
      "source": [
        "beta = 8\n",
        "m = 0.05       # assumed some initial terms\n",
        "xlist = [i for i in range(1, n+1)]\n",
        "ylist = []\n",
        "zlist = []\n",
        "for i in range(1, n+1):\n",
        "  result = beta * math.exp(m * i + (random.random() - 0.5))\n",
        "  ylist.append(result)\n",
        "  zlist.append(math.log(result))            # here we find the error ylist to plot and zlist is for using it to find the m and beta\n",
        "# print(ylist)\n",
        "# print(zlist)\n",
        "\n",
        "xzlist = list_mul(xlist, zlist)\n",
        "xsquarelist = list_mul(xlist, xlist)\n",
        "\n",
        "m = (average(xzlist) - average(xlist) * average(zlist))/(average(xsquarelist) - average(xlist)**2)\n",
        "c = average(zlist) - m * average(xlist)\n",
        "beta = math.exp(c)                          # here we find the m and beta\n",
        "\n",
        "# print(m)\n",
        "# print(c)\n",
        "# print(beta)\n",
        "\n",
        "correct_ylist = []\n",
        "for i in range(1,n+1):\n",
        "  # y_i = m*i+c\n",
        "  # z_i = math.log(y_i)\n",
        "  z_i = beta * math.exp(m * i)\n",
        "  correct_ylist.append(z_i)"
      ]
    },
    {
      "cell_type": "code",
      "execution_count": null,
      "metadata": {
        "colab": {
          "base_uri": "https://localhost:8080/",
          "height": 282
        },
        "id": "eGQwn-T3cyfk",
        "outputId": "4045c51c-11ee-4a82-d501-f6463b2f3a7b"
      },
      "outputs": [
        {
          "output_type": "execute_result",
          "data": {
            "text/plain": [
              "[<matplotlib.lines.Line2D at 0x7fa98ced2dc0>]"
            ]
          },
          "metadata": {},
          "execution_count": 60
        },
        {
          "output_type": "display_data",
          "data": {
            "text/plain": [
              "<Figure size 432x288 with 1 Axes>"
            ],
            "image/png": "[encoded data removed]"
          },
          "metadata": {
            "needs_background": "light"
          }
        }
      ],
      "source": [
        "plt.scatter(xlist, ylist, color = 'red')\n",
        "plt.plot(xlist, correct_ylist, color = 'blue')"
      ]
    },
    {
      "cell_type": "markdown",
      "metadata": {
        "id": "Do1CMKWZBQ0Y"
      },
      "source": [
        "# Here we are graphing linear regression for nth degree polynomial\n",
        "$$ y_i = m_nx^n + m_{n-1}x^{n-1} + ... + m_1x^1 + m_0x^0 $$\n",
        "now we will change this polynomial to multidimensional linear equation\n",
        "\n",
        "\n",
        "treat $x^n$ as nth axis and replace it with $x_n$  as $$ x^n = x_n$$\n",
        "\n",
        "similrly, treat $x^{n-1}$ as (n-1)th axis and replace it with $x_{n-1}$  as\n",
        "$$ x^{n-1} = x_{n-1} $$\n",
        "\n",
        "and so on ...\n",
        "then replace $ m_nx_n + m_{n-1}x_{n-1} + ... + m_1x_1 + m_0x_0 $ with MX\n",
        "so our equation will be $ Y = MX $\n",
        "\n",
        "then we need to solve it using matrix"
      ]
    },
    {
      "cell_type": "code",
      "execution_count": null,
      "metadata": {
        "colab": {
          "base_uri": "https://localhost:8080/"
        },
        "id": "ws4ICSGdBP9_",
        "outputId": "48c072a3-a18a-413f-806f-8074d54a6e1c"
      },
      "outputs": [
        {
          "name": "stdout",
          "output_type": "stream",
          "text": [
            "degree of polynomial: 1\n",
            "enter coefficient: 1\n",
            "enter coefficient: 1\n"
          ]
        }
      ],
      "source": [
        "degree = int(input('degree of polynomial: '))\n",
        "total_variable = degree\n",
        "mlist = []        # this is list for coefficint\n",
        "Xlist = []\n",
        "power = 0         # starting power with 0\n",
        "while degree >= 0:\n",
        "  m = float(input('enter coefficient: '))\n",
        "  xlist = [i**power for i in range(total_variable+1)]\n",
        "  Xlist.append(xlist)\n",
        "  mlist.append(m)\n",
        "  power += 1\n",
        "  degree = degree - 1"
      ]
    },
    {
      "cell_type": "code",
      "execution_count": null,
      "metadata": {
        "colab": {
          "base_uri": "https://localhost:8080/"
        },
        "id": "vuyVtHE4DMp0",
        "outputId": "8107d481-751c-426f-db92-981eb1943746"
      },
      "outputs": [
        {
          "output_type": "stream",
          "name": "stdout",
          "text": [
            "[2.0556680158476284, 0.9394698064764577]\n"
          ]
        }
      ],
      "source": [
        "# print(Xlist)\n",
        "# print(mlist)\n",
        "# print(np.array(Xlist))\n",
        "def Error_ylist(list_2d, list_1d):\n",
        "  array_2d = np.array(list_2d)\n",
        "  array_1d = np.array(list_1d)\n",
        "  # print(array_2d.ndim, array_1d.ndim)\n",
        "  mul_array = (array_2d @ array_1d)\n",
        "  # print(mul_array)\n",
        "  result = [i + (random.random() - 0.5) for i in mul_array]\n",
        "  return result\n",
        "print(Error_ylist(Xlist, mlist))"
      ]
    },
    {
      "cell_type": "code",
      "execution_count": null,
      "metadata": {
        "colab": {
          "base_uri": "https://localhost:8080/"
        },
        "id": "TOpeGvR9N12g",
        "outputId": "f38696b4-0441-45fa-e55a-224c714f4d67"
      },
      "outputs": [
        {
          "output_type": "stream",
          "name": "stdout",
          "text": [
            "[1.0, 1.0]\n"
          ]
        }
      ],
      "source": [
        "# note that position in list is showing that whether it is m0 or m1\n",
        "# now we have to make xlist's\n",
        "matrix = np.array(Xlist)\n",
        "matrix_inv = np.linalg.inv(matrix)       # here we found inverse using numpy\n",
        "lst = Error_ylist(Xlist, mlist)\n",
        "correct_mlist =  matrix_inv @ np.array(lst).reshape(-1, 1)\n",
        "# print(matrix_inv)\n",
        "# print(matrix)\n",
        "# print(lst)\n",
        "print(mlist)\n",
        "# print(correct_mlist)"
      ]
    },
    {
      "cell_type": "code",
      "source": [
        "def Correct_ylist(list_2d, list_1d):\n",
        "  array_2d = np.array(list_2d)\n",
        "  array_1d = np.array(list_1d)\n",
        "  # print(array_2d.ndim, array_1d.ndim)\n",
        "  return array_2d @ array_1d\n",
        "print(Correct_ylist(Xlist, correct_mlist))"
      ],
      "metadata": {
        "colab": {
          "base_uri": "https://localhost:8080/"
        },
        "id": "rS3wvpsEXCDo",
        "outputId": "d27b4ebb-3877-4c38-c473-295805e62441"
      },
      "execution_count": null,
      "outputs": [
        {
          "output_type": "stream",
          "name": "stdout",
          "text": [
            "[[1.78188   ]\n",
            " [1.12304013]]\n"
          ]
        }
      ]
    }
  ],
  "metadata": {
    "colab": {
      "provenance": [],
      "authorship_tag": "ABX9TyNpPMRAB2NB7Qi67Pa4z4vM",
      "include_colab_link": true
    },
    "kernelspec": {
      "display_name": "Python 3",
      "name": "python3"
    },
    "language_info": {
      "name": "python"
    }
  },
  "nbformat": 4,
  "nbformat_minor": 0
}