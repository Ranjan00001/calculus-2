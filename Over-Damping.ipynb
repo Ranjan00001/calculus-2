{
  "nbformat": 4,
  "nbformat_minor": 0,
  "metadata": {
    "colab": {
      "provenance": [],
      "toc_visible": true,
      "authorship_tag": "ABX9TyM4LU07uyRt3ur1/tQF0hF+",
      "include_colab_link": true
    },
    "kernelspec": {
      "name": "python3",
      "display_name": "Python 3"
    },
    "language_info": {
      "name": "python"
    }
  },
  "cells": [
    {
      "cell_type": "markdown",
      "metadata": {
        "id": "view-in-github",
        "colab_type": "text"
      },
      "source": [
        "<a href=\"https://colab.research.google.com/github/Ranjan00001/calculus-2/blob/main/Over-Damping.ipynb\" target=\"_parent\"><img src=\"https://colab.research.google.com/assets/colab-badge.svg\" alt=\"Open In Colab\"/></a>"
      ]
    },
    {
      "cell_type": "code",
      "execution_count": 39,
      "metadata": {
        "id": "rj-ZFclQaDv3"
      },
      "outputs": [],
      "source": [
        "import math\n",
        "A = float(input('Enter A'))\n",
        "B = float(input('Enter B'))\n",
        "C = float(input('Enter C'))\n",
        "x_0 = float(input('Enter x_0'))\n",
        "v_0 = float(input('Enter v_0'))"
      ]
    },
    {
      "cell_type": "code",
      "source": [
        "# import math\n",
        "# A = 1\n",
        "# B = 19\n",
        "# C = 90\n",
        "# x_0 = 1\n",
        "# v_0 = 10"
      ],
      "metadata": {
        "id": "lvRN5eWW9z6D"
      },
      "execution_count": 40,
      "outputs": []
    },
    {
      "cell_type": "code",
      "source": [
        "D = B**2-4*A*C                 # discrimnant of quadratic equation\n",
        "# print(D)\n",
        "alpha = B/(2*A)      \n",
        "beta = (abs((B**2)/(4*A**2)-(C/A)))**0.5\n",
        "a1 = (-B + D**0.5)/2*A\n",
        "a2 = (-B - D**0.5)/2*A         #a1,a2 are roots of the quadratic equation formed\n",
        "# print(alpha, beta, a1, a2)    "
      ],
      "metadata": {
        "id": "Srjvfw7sa4XY"
      },
      "execution_count": 41,
      "outputs": []
    },
    {
      "cell_type": "code",
      "source": [
        "tlist = [i/1000 for i in range(1001)]  # set a good range so that we can get enough domain to have a good view of graph\n",
        "xlist = []\n",
        "if D > 0:\n",
        "  print('over-damping')\n",
        "  d1 = (v_0 - x_0*a1)/(a1 - a2)\n",
        "  d2 = (v_0 - x_0*a2)/(a2 - a1)\n",
        "  # print(d1,d2)\n",
        "  for t in tlist:\n",
        "    x = (d1*math.exp((-alpha + beta)*t)+d2*math.exp((-alpha-beta)*t)) # geting list of the output for over-damping\n",
        "    xlist.append(x)\n",
        "elif D < 0:\n",
        "  print('under-damping')\n",
        "  for t in tlist:\n",
        "    x = math.exp(-alpha*t)*(x_0*math.cos(beta*t)+((v_0+alpha*x_0)*math.sin(beta*t)/beta))  # geting list of the output for under-damping\n",
        "    xlist.append(x)\n",
        "else:\n",
        "  print('critically-damping')\n",
        "  for t in tlist:\n",
        "    x = math.exp(-B*t/(2*A))*(x_0 + (v_0-a1*x_0)*t)        # geting list of the output for critically-damping\n",
        "    xlist.append(x)\n",
        "# print(xlist)"
      ],
      "metadata": {
        "id": "txXmTaHwcj6c",
        "colab": {
          "base_uri": "https://localhost:8080/"
        },
        "outputId": "de7009be-ff55-4f7e-8c41-b2fec4e6f8fc"
      },
      "execution_count": 44,
      "outputs": [
        {
          "output_type": "stream",
          "name": "stdout",
          "text": [
            "over-damping\n"
          ]
        }
      ]
    },
    {
      "cell_type": "code",
      "source": [
        "import matplotlib.pyplot as plt\n",
        "fig = plt.plot(tlist, xlist)\n",
        "# fig.show()\n",
        "\n"
      ],
      "metadata": {
        "id": "PkYKUglUgg-V",
        "colab": {
          "base_uri": "https://localhost:8080/",
          "height": 265
        },
        "outputId": "bde01890-b148-4d07-8adc-7691aa873246"
      },
      "execution_count": 45,
      "outputs": [
        {
          "output_type": "display_data",
          "data": {
            "text/plain": [
              "<Figure size 432x288 with 1 Axes>"
            ],
            "image/png": "[encoded data removed]"
          },
          "metadata": {
            "needs_background": "light"
          }
        }
      ]
    }
  ]
}