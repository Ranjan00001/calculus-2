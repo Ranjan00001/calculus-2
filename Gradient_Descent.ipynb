{
  "nbformat": 4,
  "nbformat_minor": 0,
  "metadata": {
    "colab": {
      "provenance": [],
      "authorship_tag": "ABX9TyMdg+9XlHSt0NtOdzS5L8pM",
      "include_colab_link": true
    },
    "kernelspec": {
      "name": "python3",
      "display_name": "Python 3"
    },
    "language_info": {
      "name": "python"
    }
  },
  "cells": [
    {
      "cell_type": "markdown",
      "metadata": {
        "id": "view-in-github",
        "colab_type": "text"
      },
      "source": [
        "<a href=\"https://colab.research.google.com/github/Ranjan00001/calculus-2/blob/main/Gradient_Descent.ipynb\" target=\"_parent\"><img src=\"https://colab.research.google.com/assets/colab-badge.svg\" alt=\"Open In Colab\"/></a>"
      ]
    },
    {
      "cell_type": "markdown",
      "source": [
        "# GRADIENT DESCENT\n",
        "Gradient descent method is most commonly used technique in machine learning for optimization purposes. Although, differention can be done in three ways Numerically, Symbolically and using Autograd but here the differentiation of functions will be calculated by using autograd (module for accurate differentiation) for more accurate answers.Gradient descent formula for functions in multiple varibles is as follows:\n",
        "$$θ = θ - \\eta \\cdot ∇f(θ) $$\n",
        "where:\n",
        "\n",
        "$ θ $ represents the vectorial representation of variables.\n",
        "\n",
        "$ \\eta $ is learning rate which controls the size of the step taken in the direction of the negative gradient. Care must be taken while choosing it because too smaller may take much time to process data while larger value may give u incorrect answer\n",
        "\n",
        "$ f(θ) $ represents the gradient of the cost function $f$ with respect to $θ$.\n",
        "\n",
        "\n"
      ],
      "metadata": {
        "id": "llprNhGah3Kw"
      }
    },
    {
      "cell_type": "code",
      "execution_count": 2,
      "metadata": {
        "id": "5mjKHEqMrwV3"
      },
      "outputs": [],
      "source": [
        "import autograd.numpy as np\n",
        "import autograd\n",
        "import sympy as sym\n",
        "import math"
      ]
    },
    {
      "cell_type": "code",
      "source": [
        "# differentation of sin(x) using numerical method\n",
        "def my_func1(x):\n",
        "  '''returns the sin(x) function\n",
        "  '''\n",
        "  return np.sin(x)\n",
        "\n",
        "gradient_func = autograd.grad(my_func1)\n",
        "gradient = gradient_func(2.0)\n",
        "print(gradient)\n",
        "\n",
        "# differentation using symbolic method\n",
        "def my_func2(x):\n",
        "  return sym.sin(x)\n",
        "x = sym.symbols('x')\n",
        "f_prime = sym.diff(my_func2(x), x)\n",
        "print(f_prime)"
      ],
      "metadata": {
        "id": "cga6fwV3r9zK"
      },
      "execution_count": null,
      "outputs": []
    },
    {
      "cell_type": "code",
      "source": [
        "# differentation of x**2 + y**2 using numerical method\n",
        "def myfunc1(X):\n",
        "  '''\n",
        "  returns x**2 + y**2 function\n",
        "\n",
        "  X is a list or tuple\n",
        "  '''\n",
        "  x, y = X      # slight advance, x = X[0] and y = X[1]\n",
        "  return x**2 + y**2\n",
        "\n",
        "gradient_func = autograd.grad(myfunc1)\n",
        "gradient = gradient_func([3.0, 2.0])\n",
        "print(gradient)\n",
        "\n",
        "# gradient using symbolic method\n",
        "x, y = sym.symbols('x y')\n",
        "f = x**2 + y**2\n",
        "f_prime = sym.Matrix([sym.diff(f,x), sym.diff(f,x)])\n",
        "\n",
        "# grad_f = sp.Matrix([sp.diff(f, x), sp.diff(f, y)])\n",
        "print(f_prime)"
      ],
      "metadata": {
        "id": "PWK1PWtFseTs",
        "colab": {
          "base_uri": "https://localhost:8080/"
        },
        "outputId": "e998880a-1b7c-4e1d-ebe9-15b1941410d4"
      },
      "execution_count": 4,
      "outputs": [
        {
          "output_type": "stream",
          "name": "stdout",
          "text": [
            "[array(6.), array(4.)]\n",
            "Matrix([[2*x], [2*x]])\n"
          ]
        }
      ]
    },
    {
      "cell_type": "code",
      "source": [
        "# differentiation for sin(x) using first principle method\n",
        "xlist = [i/100 for i in range(2500)]    # chose enough values to make fine graph\n",
        "# x = 0\n",
        "first_princi_xlist = []\n",
        "for i in xlist:\n",
        "  del_x = 0.1\n",
        "  x = (math.sin(i+del_x) - math.sin(i)) / del_x  # used first principle of derivation and differentiated for discrete point\n",
        "  first_princi_xlist.append(x)\n",
        "\n",
        "# differentiation for sin(x) using autograd method\n",
        "autodiff_xlist = []\n",
        "for i in xlist:\n",
        "  gradient_func = autograd.grad(my_func1)\n",
        "  gradient = gradient_func(i)\n",
        "  autodiff_xlist.append(gradient)\n"
      ],
      "metadata": {
        "id": "2Xt5jShHuVBZ"
      },
      "execution_count": 5,
      "outputs": []
    },
    {
      "cell_type": "code",
      "source": [
        "import matplotlib.pyplot as plt\n",
        "plt.plot(xlist, first_princi_xlist)\n",
        "plt.plot(xlist, autodiff_xlist) "
      ],
      "metadata": {
        "colab": {
          "base_uri": "https://localhost:8080/",
          "height": 447
        },
        "id": "4XY92EZzwd0s",
        "outputId": "c29ace45-3cb7-4cda-8a16-2db3393abd3c"
      },
      "execution_count": 6,
      "outputs": [
        {
          "output_type": "execute_result",
          "data": {
            "text/plain": [
              "[<matplotlib.lines.Line2D at 0x7f9b3a6ca0d0>]"
            ]
          },
          "metadata": {},
          "execution_count": 6
        },
        {
          "output_type": "display_data",
          "data": {
            "text/plain": [
              "<Figure size 640x480 with 1 Axes>"
            ],
            "image/png": "[encoded data removed]"
          },
          "metadata": {}
        }
      ]
    },
    {
      "cell_type": "markdown",
      "source": [
        "# minima using gradient descent\n",
        "$$x = x - \\eta \\cdot ∇f(x) $$\n",
        "$$ x_{n+1} = x_n + \\eta \\cdot ∇f(x_n)$$\n",
        "we have to make graf on $x^2,sin(x), x^2+y^2$, se of linear regression"
      ],
      "metadata": {
        "id": "GUxD3YjM54kS"
      }
    },
    {
      "cell_type": "markdown",
      "source": [
        "minima for $sin(x)$"
      ],
      "metadata": {
        "id": "QRTAkYh9lH00"
      }
    },
    {
      "cell_type": "code",
      "source": [
        "\n",
        "gradient_func = autograd.grad(my_func1)\n",
        "x = 0.0\n",
        "eta = 0.01\n",
        "# for i in range(800):\n",
        "while gradient_func(x) > 1e-3:\n",
        "# while math.sin(x) > -1:\n",
        "  # if gradient_func()\n",
        "  x = x + eta * gradient_func(x)\n",
        "print(x)\n"
      ],
      "metadata": {
        "colab": {
          "base_uri": "https://localhost:8080/"
        },
        "id": "cBrN6jPq535q",
        "outputId": "9207ec32-0d76-4ba5-d118-52f832dfb73d"
      },
      "execution_count": 7,
      "outputs": [
        {
          "output_type": "stream",
          "name": "stdout",
          "text": [
            "1.569800021793056\n"
          ]
        }
      ]
    },
    {
      "cell_type": "markdown",
      "source": [
        "minima for $x^2$"
      ],
      "metadata": {
        "id": "mVwhhQYGlWRo"
      }
    },
    {
      "cell_type": "code",
      "source": [
        "def xsquare(x):\n",
        "  return x**2\n",
        "\n",
        "gradient_func = autograd.grad(xsquare)\n",
        "# print(gradient_func(9))\n",
        "x = 9.0\n",
        "eta = 0.01\n",
        "while gradient_func(x) > 1e-3:\n",
        "  x = x - eta * gradient_func(x)\n",
        "print(x)"
      ],
      "metadata": {
        "colab": {
          "base_uri": "https://localhost:8080/"
        },
        "id": "5heNuK3nafXQ",
        "outputId": "94a76b07-6cdd-4635-8112-d52ebbfa25d7"
      },
      "execution_count": 8,
      "outputs": [
        {
          "output_type": "stream",
          "name": "stdout",
          "text": [
            "0.0004999070025902757\n"
          ]
        }
      ]
    },
    {
      "cell_type": "markdown",
      "source": [
        "minima for $x^2 + y^2$"
      ],
      "metadata": {
        "id": "hdp5xB7tqXfr"
      }
    },
    {
      "cell_type": "code",
      "source": [
        "def myfunc1(X):\n",
        "  '''\n",
        "  returns x**2 + y**2 function\n",
        "\n",
        "  X is a list or tuple\n",
        "  '''\n",
        "  x, y = X      # slight advance, x = X[0] and y = X[1]\n",
        "  return x**2 + y**2\n",
        "\n",
        "def norm(seq):\n",
        "  '''\n",
        "  returns norm of the seq\n",
        "  for example seq is [array(4.), array(6.)]\n",
        "  then norm is (4**2+6**2)**0.5 \n",
        "  '''\n",
        "  return (seq[0]**2 + seq[1]**2)**0.5\n",
        "\n",
        "gradient_func = autograd.grad(myfunc1)\n",
        "gradient_func([2.0, 3.0])\n",
        "X = [2.0, 3.0]\n",
        "print(norm(gradient_func(X)))\n",
        "eta = 0.01\n",
        "while norm(gradient_func(X)) > 1e-3:\n",
        "# for i in range(200):\n",
        "  # print(norm(gradient_func(X)))\n",
        "  # print(X)\n",
        "  X[0] = X[0] - eta * gradient_func(X)[0]\n",
        "  X[1] = X[1] - eta * gradient_func(X)[1]\n",
        "\n",
        "print(X)  # this is minima of the function x**2+y**2"
      ],
      "metadata": {
        "colab": {
          "base_uri": "https://localhost:8080/"
        },
        "id": "fRkB2TQbqWbD",
        "outputId": "84709a91-dc05-4fe5-b5cb-6ee393a74677"
      },
      "execution_count": 7,
      "outputs": [
        {
          "output_type": "stream",
          "name": "stdout",
          "text": [
            "7.211102550927978\n",
            "[0.0002757422406922465, 0.0004136133610383701]\n"
          ]
        }
      ]
    },
    {
      "cell_type": "code",
      "source": [],
      "metadata": {
        "id": "2U_5qLUy-obz"
      },
      "execution_count": null,
      "outputs": []
    }
  ]
}