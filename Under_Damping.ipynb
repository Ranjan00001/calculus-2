{
  "nbformat": 4,
  "nbformat_minor": 0,
  "metadata": {
    "colab": {
      "provenance": [],
      "toc_visible": true,
      "authorship_tag": "ABX9TyPDNwheDqqmVzFN3W/E+Lwl",
      "include_colab_link": true
    },
    "kernelspec": {
      "name": "python3",
      "display_name": "Python 3"
    },
    "language_info": {
      "name": "python"
    }
  },
  "cells": [
    {
      "cell_type": "markdown",
      "metadata": {
        "id": "view-in-github",
        "colab_type": "text"
      },
      "source": [
        "<a href=\"https://colab.research.google.com/github/Ranjan00001/calculus-2/blob/main/Under_Damping.ipynb\" target=\"_parent\"><img src=\"https://colab.research.google.com/assets/colab-badge.svg\" alt=\"Open In Colab\"/></a>"
      ]
    },
    {
      "cell_type": "markdown",
      "source": [
        "# Solving Differential equation\n",
        "for a homogeneous Differential Equation,\n",
        "$$Ax''+Bx'+cx=0$$\n",
        "take $x = e^{xt}$\n",
        "\n",
        "so $x'=xe^{xt}$\n",
        "\n",
        "and $x''=x^2e^{xt}$\n",
        "\n",
        "so our equation transformed to $$Ax^2+Bx+c=0$$"
      ],
      "metadata": {
        "id": "z20ZXohFRksC"
      }
    },
    {
      "cell_type": "markdown",
      "source": [
        "#Damping\n",
        "It's an influence within or upon an oscillatory motion. It means loss of energy in a oscillatory system.\n",
        "\n",
        "On the basis of damping-ratio, it is divided innto 3 major parts\n",
        "\n",
        "\n",
        "1.   Over Damping:-If the system contained high losses, for example if the spring mass experiment were conducted in a viscous fluid, the mass could slowly return to its rest position without ever overshooting. This case is called overdamped.\n",
        "2.   Under Damping:- Commonly, the mass tends to overshoot its starting position, and then return, overshooting again. With each overshoot, some energy in the system is dissipated, and the oscillations die towards zero. This case is called underdamped.\n",
        "3.   Critically Damping:- Between the overdamped and underdamped cases, there exists a certain level of damping at which the system will just fail to overshoot and will not make a single oscillation. This case is called critical damping. The key difference between critical damping and overdamping is that, in critical damping, the system returns to equilibrium in the minimum amount of time.\n",
        "\n",
        "Note:- These cases are theoretical only. In real life, this type of equation is not possible.\n",
        "\n",
        "\n",
        "\n",
        "\n",
        "\n",
        "\n"
      ],
      "metadata": {
        "id": "YVlM7pOMO7G5"
      }
    },
    {
      "cell_type": "code",
      "execution_count": null,
      "metadata": {
        "id": "rj-ZFclQaDv3"
      },
      "outputs": [],
      "source": [
        "# import math\n",
        "# A = float(input('Enter A'))\n",
        "# B = float(input('Enter B'))\n",
        "# C = float(input('Enter C'))\n",
        "# x_0 = float(input('Enter x_0'))\n",
        "# v_0 = float(input('Enter v_0'))"
      ]
    },
    {
      "cell_type": "code",
      "source": [
        "import math\n",
        "A = 1\n",
        "B = 1\n",
        "C = 90\n",
        "x_0 = 1\n",
        "v_0 = 1"
      ],
      "metadata": {
        "id": "lvRN5eWW9z6D"
      },
      "execution_count": null,
      "outputs": []
    },
    {
      "cell_type": "code",
      "source": [
        "D = B**2-4*A*C                 # discrimnant of quadratic equation\n",
        "# print(D)\n",
        "alpha = B/(2*A)      \n",
        "beta = (abs((B**2)/(4*A**2)-(C/A)))**0.5\n",
        "a1 = (-B + D**0.5)/2*A\n",
        "a2 = (-B - D**0.5)/2*A         #a1,a2 are roots of the quadratic equation formed\n",
        "# print(alpha, beta, a1, a2)    "
      ],
      "metadata": {
        "id": "Srjvfw7sa4XY"
      },
      "execution_count": null,
      "outputs": []
    },
    {
      "cell_type": "code",
      "source": [
        "tlist = [i/100 for i in range(1001)]  # set a good range so that we can get enough domain to have a good view of graph\n",
        "xlist = []\n",
        "if D > 0:\n",
        "  print('over-damping')\n",
        "  d1 = (v_0 - x_0*a1)/(a1 - a2)\n",
        "  d2 = (v_0 - x_0*a2)/(a2 - a1)\n",
        "  # print(d1,d2)\n",
        "  for t in tlist:\n",
        "    x = (d1*math.exp((-alpha + beta)*t)+d2*math.exp((-alpha-beta)*t)) # geting list of the output for over-damping\n",
        "    xlist.append(x)\n",
        "elif D < 0:\n",
        "  print('under-damping')\n",
        "  for t in tlist:\n",
        "    x = math.exp(-alpha*t)*(x_0*math.cos(beta*t)+((v_0+alpha*x_0)*math.sin(beta*t)/beta))  # geting list of the output for under-damping\n",
        "    xlist.append(x)\n",
        "else:\n",
        "  print('critically-damping')\n",
        "  for t in tlist:\n",
        "    x = math.exp(-B*t/(2*A))*(x_0 + (v_0-a1*x_0)*t)        # geting list of the output for critically-damping\n",
        "    xlist.append(x)\n",
        "# print(xlist)"
      ],
      "metadata": {
        "id": "txXmTaHwcj6c",
        "colab": {
          "base_uri": "https://localhost:8080/"
        },
        "outputId": "4e143070-a102-4ad3-b162-13f7c23253f1"
      },
      "execution_count": null,
      "outputs": [
        {
          "output_type": "stream",
          "name": "stdout",
          "text": [
            "under-damping\n"
          ]
        }
      ]
    },
    {
      "cell_type": "code",
      "source": [
        "import matplotlib.pyplot as plt\n",
        "fig = plt.plot(tlist, xlist)\n",
        "# fig.show()\n",
        "\n"
      ],
      "metadata": {
        "id": "PkYKUglUgg-V",
        "colab": {
          "base_uri": "https://localhost:8080/",
          "height": 265
        },
        "outputId": "a2787ec0-5287-40eb-bced-08430a76f818"
      },
      "execution_count": null,
      "outputs": [
        {
          "output_type": "display_data",
          "data": {
            "text/plain": [
              "<Figure size 432x288 with 1 Axes>"
            ],
            "image/png": "[encoded data removed]"
          },
          "metadata": {
            "needs_background": "light"
          }
        }
      ]
    }
  ]
}